{
 "cells": [
  {
   "cell_type": "code",
   "id": "initial_id",
   "metadata": {
    "collapsed": true,
    "jupyter": {
     "is_executing": true
    },
    "ExecuteTime": {
     "start_time": "2025-05-07T07:03:00.053527Z"
    }
   },
   "source": "!pip install gradio transformers deep-translator --q",
   "outputs": [],
   "execution_count": null
  },
  {
   "metadata": {},
   "cell_type": "code",
   "outputs": [],
   "execution_count": null,
   "source": [
    "import gradio as gr\n",
    "from transformers import pipeline\n",
    "from deep_translator import GoogleTranslator\n",
    "\n",
    "caption = pipeline(\"image-to-text\", model=\"Salesforce/blip-image-captioning-base\")\n",
    "\n",
    "def process_image(img):\n",
    "    text = caption(img)[0]['generated_text']\n",
    "    return GoogleTranslator(source='auto', target='uz').translate(text)\n",
    "\n",
    "gr.Interface(process_image, gr.Image(type=\"pil\"), \"text\", title=\"🖼 Rasmga ta'rif\").launch()"
   ],
   "id": "731127f455cbf817"
  }
 ],
 "metadata": {
  "kernelspec": {
   "display_name": "Python 3",
   "language": "python",
   "name": "python3"
  },
  "language_info": {
   "codemirror_mode": {
    "name": "ipython",
    "version": 2
   },
   "file_extension": ".py",
   "mimetype": "text/x-python",
   "name": "python",
   "nbconvert_exporter": "python",
   "pygments_lexer": "ipython2",
   "version": "2.7.6"
  }
 },
 "nbformat": 4,
 "nbformat_minor": 5
}
