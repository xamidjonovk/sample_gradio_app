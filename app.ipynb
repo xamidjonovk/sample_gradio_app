!pip install gradio transformers deep-translator --q
